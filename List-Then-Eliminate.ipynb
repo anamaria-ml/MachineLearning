{
 "cells": [
  {
   "cell_type": "code",
   "execution_count": 14,
   "metadata": {
    "collapsed": true
   },
   "outputs": [],
   "source": [
    "import numpy as np\n",
    "import itertools"
   ]
  },
  {
   "cell_type": "code",
   "execution_count": 15,
   "metadata": {
    "collapsed": true
   },
   "outputs": [],
   "source": [
    "x = np.array([['Sunny','Warm','Normal','Strong','Warm','Same'],\n",
    " ['Sunny','Warm','High','Strong','Warm','Same'],\n",
    " ['Rainy','Cold','High','Strong','Warm','Change'],\n",
    " ['Sunny','Warm','High','Strong','Cool','Change']])"
   ]
  },
  {
   "cell_type": "code",
   "execution_count": 16,
   "metadata": {
    "collapsed": true
   },
   "outputs": [],
   "source": [
    "y = ['+','+','-','+']"
   ]
  },
  {
   "cell_type": "code",
   "execution_count": 17,
   "metadata": {
    "collapsed": true
   },
   "outputs": [],
   "source": [
    "def check(hypothesis,instance,expected_label):\n",
    "    \n",
    "    calculated_label = None\n",
    "    for i in range (np.size(hypothesis)):\n",
    "        if(hypothesis[i] != instance[i] and hypothesis[i]!='?'):\n",
    "            calculated_label='-'\n",
    "    if(calculated_label is None):\n",
    "        calculated_label='+'\n",
    "        \n",
    "    return calculated_label==expected_label"
   ]
  },
  {
   "cell_type": "code",
   "execution_count": 18,
   "metadata": {
    "collapsed": true
   },
   "outputs": [],
   "source": [
    "def list_then_eliminate(all_instances,all_labels):\n",
    "\n",
    "    transpose = np.transpose(all_instances)\n",
    "    distinct_attribute_values = [set(np.append(values,'?')) for values in transpose] \n",
    "    all_hypothesis = [h for h in itertools.product(*distinct_attribute_values)]\n",
    "\n",
    "    hypothesis_count,columns = np.shape(all_hypothesis)\n",
    "    instance_count,columns = np.shape(all_instances)\n",
    "    viable_hypothesis=[]\n",
    "    \n",
    "    for i in range (hypothesis_count):\n",
    "        result = True\n",
    "        for j in range (instance_count):\n",
    "            result =result and check(all_hypothesis[i],all_instances[j],all_labels[j])\n",
    "        if(result==True):\n",
    "            viable_hypothesis.append(all_hypothesis[i])\n",
    "    return  viable_hypothesis"
   ]
  },
  {
   "cell_type": "code",
   "execution_count": 19,
   "metadata": {
    "collapsed": true
   },
   "outputs": [],
   "source": [
    "result=list_then_eliminate(x,y)"
   ]
  },
  {
   "cell_type": "code",
   "execution_count": 20,
   "metadata": {
    "collapsed": false
   },
   "outputs": [
    {
     "data": {
      "text/plain": [
       "[('?', 'Warm', '?', '?', '?', '?'),\n",
       " ('?', 'Warm', '?', 'Strong', '?', '?'),\n",
       " ('Sunny', '?', '?', '?', '?', '?'),\n",
       " ('Sunny', '?', '?', 'Strong', '?', '?'),\n",
       " ('Sunny', 'Warm', '?', '?', '?', '?'),\n",
       " ('Sunny', 'Warm', '?', 'Strong', '?', '?')]"
      ]
     },
     "execution_count": 20,
     "metadata": {},
     "output_type": "execute_result"
    }
   ],
   "source": [
    "result"
   ]
  }
 ],
 "metadata": {},
 "nbformat": 4,
 "nbformat_minor": 2
}
